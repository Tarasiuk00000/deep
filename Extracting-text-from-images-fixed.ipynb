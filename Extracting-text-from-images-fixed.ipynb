{
  "cells": [
    {
      "cell_type": "code",
      "execution_count": null,
      "metadata": {},
      "outputs": [],
      "source": [
        "# Step 1: Configure Tesseract path (Windows)\n",
        "import pytesseract\n",
        "pytesseract.pytesseract.tesseract_cmd = r'C:\\Program Files\\Tesseract-OCR\\tesseract.exe'\n",
        "\n",
        "# Step 2: Import necessary libraries\n",
        "import cv2\n",
        "from matplotlib import pyplot as plt"
      ]
    },
    {
      "cell_type": "code",
      "execution_count": null,
      "metadata": {},
      "outputs": [],
      "source": [
        "# Step 3: Load the image with error handling\n",
        "image_path = r\"E:\\Deep Learning Projects\\db\\sample.jpg\"\n",
        "image = cv2.imread(image_path)\n",
        "\n",
        "if image is None:\n",
        "    print(f\"Error: Could not load image from {image_path}\")\n",
        "    print(\"Please check if the file exists and the path is correct\")\n",
        "else:\n",
        "    image_rgb = cv2.cvtColor(image, cv2.COLOR_BGR2RGB)\n",
        "    print(\"Image loaded successfully!\")"
      ]
    },
    {
      "cell_type": "code",
      "execution_count": null,
      "metadata": {},
      "outputs": [],
      "source": [
        "# Step 4: Display the original image\n",
        "if 'image_rgb' in locals():\n",
        "    plt.figure(figsize=(10, 6))\n",
        "    plt.imshow(image_rgb)\n",
        "    plt.title(\"Original Image\")\n",
        "    plt.axis(\"off\")\n",
        "    plt.show()\n",
        "else:\n",
        "    print(\"Cannot display image - image not loaded\")"
      ]
    },
    {
      "cell_type": "code",
      "execution_count": null,
      "metadata": {},
      "outputs": [],
      "source": [
        "# Step 5: Extract text from the image\n",
        "if 'image_rgb' in locals():\n",
        "    try:\n",
        "        extracted_text = pytesseract.image_to_string(image_rgb)\n",
        "        print(\"Extracted Text:\")\n",
        "        print(extracted_text)\n",
        "    except Exception as e:\n",
        "        print(f\"Error extracting text: {e}\")\n",
        "        print(\"Make sure Tesseract is installed and the path is correct\")\n",
        "else:\n",
        "    print(\"Cannot extract text - image not loaded\")"
      ]
    },
    {
      "cell_type": "code",
      "execution_count": null,
      "metadata": {},
      "outputs": [],
      "source": [
        "# Step 6: Draw bounding boxes around detected text\n",
        "if 'image_rgb' in locals():\n",
        "    try:\n",
        "        data = pytesseract.image_to_data(image_rgb, output_type=pytesseract.Output.DICT)\n",
        "        \n",
        "        n_boxes = len(data['level'])\n",
        "        for i in range(n_boxes):\n",
        "            (x, y, w, h) = (data['left'][i], data['top'][i], data['width'][i], data['height'][i])\n",
        "            cv2.rectangle(image_rgb, (x, y), (x + w, y + h), (255, 0, 0), 2)\n",
        "        print(\"Bounding boxes added successfully!\")\n",
        "    except Exception as e:\n",
        "        print(f\"Error adding bounding boxes: {e}\")\n",
        "else:\n",
        "    print(\"Cannot add bounding boxes - image not loaded\")"
      ]
    },
    {
      "cell_type": "code",
      "execution_count": null,
      "metadata": {},
      "outputs": [],
      "source": [
        "# Step 7: Display image with bounding boxes\n",
        "if 'image_rgb' in locals():\n",
        "    plt.figure(figsize=(10, 6))\n",
        "    plt.imshow(image_rgb)\n",
        "    plt.title(\"Image with Text Bounding Boxes\")\n",
        "    plt.axis(\"off\")\n",
        "    plt.show()\n",
        "else:\n",
        "    print(\"Cannot display final image - image not loaded\")"
      ]
    }
  ],
  "metadata": {
    "kernelspec": {
      "display_name": "Python 3",
      "name": "python3"
    },
    "language_info": {
      "name": "python"
    }
  },
  "nbformat": 4,
  "nbformat_minor": 0
}